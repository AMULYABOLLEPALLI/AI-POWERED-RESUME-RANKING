{
 "cells": [
  {
   "cell_type": "code",
   "execution_count": 12,
   "id": "f7aa52d3-1cda-4aab-9379-41815e3e4efb",
   "metadata": {},
   "outputs": [
    {
     "name": "stdout",
     "output_type": "stream",
     "text": [
      "C:\\Anaconda\\envs\\resumerank\\python.exe\n",
      "C:\\Users\\bolle\\AppData\\Local\\Programs\\Python\\Python311\\python.exe\n",
      "C:\\Users\\bolle\\AppData\\Local\\Microsoft\\WindowsApps\\python.exe\n"
     ]
    }
   ],
   "source": [
    "!where python"
   ]
  },
  {
   "cell_type": "code",
   "execution_count": 13,
   "id": "32cb8d4a-2069-4dae-86e8-65be403d4d8e",
   "metadata": {},
   "outputs": [],
   "source": [
    "import streamlit as st \n",
    "from PyPDF2 import PdfReader\n",
    "import pandas as pd \n",
    "from sklearn.feature_extraction.text import TfidfVectorizer\n",
    "from sklearn.metrics.pairwise import cosine_similarity"
   ]
  },
  {
   "cell_type": "code",
   "execution_count": 14,
   "id": "cbe0a6df-03b0-4339-bc76-316bf860e714",
   "metadata": {},
   "outputs": [],
   "source": [
    "def extract_text_from_pdf(file):\n",
    "    pdf=PdfReader(file)\n",
    "    text=\"\"\n",
    "    for page in pdf.pages:\n",
    "        text += page.extract_text()\n",
    "    return text"
   ]
  },
  {
   "cell_type": "code",
   "execution_count": 15,
   "id": "4d522834-8342-4dae-820e-1b5792c4b193",
   "metadata": {},
   "outputs": [],
   "source": [
    "def rank_resumes(job_description,resumes):\n",
    "    documents=[job_description]+resumes\n",
    "    vectorizer=TfidfVectorizer().fit_transform(documents)\n",
    "    vectors=vectorizer.toarray()\n",
    "\n",
    "    job_description_vector=vectors[0]\n",
    "    resume_vectors=vectors[1:]\n",
    "    cosine_similarities=cosine_similarity([job_description_vector],resume_vectors).flatten()\n",
    "    return cosine_similarities"
   ]
  },
  {
   "cell_type": "code",
   "execution_count": 16,
   "id": "c334a9d0-d80b-4144-b27c-086ca8371efc",
   "metadata": {},
   "outputs": [
    {
     "name": "stderr",
     "output_type": "stream",
     "text": [
      "2025-02-25 12:23:01.967 Thread 'MainThread': missing ScriptRunContext! This warning can be ignored when running in bare mode.\n",
      "2025-02-25 12:23:01.968 Thread 'MainThread': missing ScriptRunContext! This warning can be ignored when running in bare mode.\n",
      "2025-02-25 12:23:01.969 Thread 'MainThread': missing ScriptRunContext! This warning can be ignored when running in bare mode.\n",
      "2025-02-25 12:23:01.972 Thread 'MainThread': missing ScriptRunContext! This warning can be ignored when running in bare mode.\n",
      "2025-02-25 12:23:01.974 Thread 'MainThread': missing ScriptRunContext! This warning can be ignored when running in bare mode.\n",
      "2025-02-25 12:23:01.976 Thread 'MainThread': missing ScriptRunContext! This warning can be ignored when running in bare mode.\n",
      "2025-02-25 12:23:01.977 Thread 'MainThread': missing ScriptRunContext! This warning can be ignored when running in bare mode.\n",
      "2025-02-25 12:23:01.979 Thread 'MainThread': missing ScriptRunContext! This warning can be ignored when running in bare mode.\n",
      "2025-02-25 12:23:01.980 Thread 'MainThread': missing ScriptRunContext! This warning can be ignored when running in bare mode.\n",
      "2025-02-25 12:23:01.981 Thread 'MainThread': missing ScriptRunContext! This warning can be ignored when running in bare mode.\n",
      "2025-02-25 12:23:01.983 Thread 'MainThread': missing ScriptRunContext! This warning can be ignored when running in bare mode.\n",
      "2025-02-25 12:23:01.984 Thread 'MainThread': missing ScriptRunContext! This warning can be ignored when running in bare mode.\n",
      "2025-02-25 12:23:01.987 Thread 'MainThread': missing ScriptRunContext! This warning can be ignored when running in bare mode.\n",
      "2025-02-25 12:23:01.988 Thread 'MainThread': missing ScriptRunContext! This warning can be ignored when running in bare mode.\n",
      "2025-02-25 12:23:01.989 Thread 'MainThread': missing ScriptRunContext! This warning can be ignored when running in bare mode.\n",
      "2025-02-25 12:23:01.992 Thread 'MainThread': missing ScriptRunContext! This warning can be ignored when running in bare mode.\n",
      "2025-02-25 12:23:01.994 Thread 'MainThread': missing ScriptRunContext! This warning can be ignored when running in bare mode.\n"
     ]
    }
   ],
   "source": [
    "st.title(\"AI Resume Screening & candidate Ranking System\")\n",
    "st.header(\"Job Description\")\n",
    "job_description=st.text_area(\"enter the job description\")\n",
    "st.header(\"Upload Resumes\")\n",
    "uploaded_files=st.file_uploader(\"upload pdf files\",type=[\"pdf\"],accept_multiple_files=True)"
   ]
  },
  {
   "cell_type": "code",
   "execution_count": 17,
   "id": "302a4e55-588d-44f4-957d-f242f21c93e5",
   "metadata": {},
   "outputs": [],
   "source": [
    "if uploaded_files and job_description:\n",
    "    st.header(\"Ranking Resumes\")\n",
    "    resumes=[]\n",
    "    for file in uploaded_files:\n",
    "        text=extract_text_from_pdf(file)\n",
    "        resumes.append(text)\n",
    "        scores=rank_resumes(job_description,resumes)\n",
    "        results=pd.DataFrame({\"Resume\":[file.name for file in uploaded_files],\"scores\":scores})\n",
    "        results=results.sort_values(by=\"scores\",ascending=False)\n",
    "        st.write(results)"
   ]
  },
  {
   "cell_type": "code",
   "execution_count": null,
   "id": "ca707cd5-46d8-4b51-a24d-9f25437389d3",
   "metadata": {},
   "outputs": [],
   "source": []
  },
  {
   "cell_type": "code",
   "execution_count": null,
   "id": "99918a14-7683-4662-859f-c0792645ee76",
   "metadata": {},
   "outputs": [],
   "source": []
  }
 ],
 "metadata": {
  "kernelspec": {
   "display_name": "Python 3 (ipykernel)",
   "language": "python",
   "name": "python3"
  },
  "language_info": {
   "codemirror_mode": {
    "name": "ipython",
    "version": 3
   },
   "file_extension": ".py",
   "mimetype": "text/x-python",
   "name": "python",
   "nbconvert_exporter": "python",
   "pygments_lexer": "ipython3",
   "version": "3.9.21"
  }
 },
 "nbformat": 4,
 "nbformat_minor": 5
}
